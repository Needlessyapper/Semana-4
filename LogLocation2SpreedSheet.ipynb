{
 "cells": [
  {
   "cell_type": "code",
   "execution_count": 1,
   "metadata": {},
   "outputs": [],
   "source": [
    "!adb forward tcp:9999 tcp:37945"
   ]
  },
  {
   "cell_type": "code",
   "execution_count": 8,
   "metadata": {},
   "outputs": [],
   "source": [
    "import android\n",
    "telefono = android.Android()"
   ]
  },
  {
   "cell_type": "code",
   "execution_count": 9,
   "metadata": {},
   "outputs": [
    {
     "name": "stdout",
     "output_type": "stream",
     "text": [
      "[{u'thoroughfare': u'Enrique C R\\xe9bsamen', u'locality': u'Xalapa Enr\\xedquez', u'sub_admin_area': u'Xalapa', u'admin_area': u'Veracruz', u'feature_name': u'60', u'country_code': u'MX', u'country_name': u'M\\xe9xico', u'postal_code': u'91060'}]\n"
     ]
    },
    {
     "data": {
      "text/plain": [
       "Result(id=4, result=None, error=None)"
      ]
     },
     "execution_count": 9,
     "metadata": {},
     "output_type": "execute_result"
    }
   ],
   "source": [
    "telefono.startLocating()\n",
    "loc = telefono.readLocation().result\n",
    "if loc == {}:\n",
    "    loc = telefono.getLastKnownLocation().result\n",
    "#agregar una linea para revisar que la antena esta encendida\n",
    "if loc != {}:\n",
    "    try:\n",
    "        n = loc['gps']\n",
    "    except keyError:\n",
    "        n = loc['network']\n",
    "    la = n['latitude']\n",
    "    lo = n['longitude']\n",
    "    direccion = telefono.geocode(la,lo).result\n",
    "print direccion\n",
    "telefono.stopLocating()"
   ]
  },
  {
   "cell_type": "code",
   "execution_count": 10,
   "metadata": {},
   "outputs": [
    {
     "data": {
      "text/plain": [
       "{u'gps': {u'accuracy': 41,\n",
       "  u'altitude': 1346,\n",
       "  u'bearing': 0,\n",
       "  u'latitude': 19.51976804,\n",
       "  u'longitude': -96.91565107,\n",
       "  u'provider': u'gps',\n",
       "  u'speed': 0,\n",
       "  u'time': 1521315059000L},\n",
       " u'network': {u'accuracy': 23.37299919128418,\n",
       "  u'altitude': 0,\n",
       "  u'bearing': 0,\n",
       "  u'latitude': 19.519697,\n",
       "  u'longitude': -96.9155722,\n",
       "  u'provider': u'network',\n",
       "  u'speed': 0,\n",
       "  u'time': 1521322589237L},\n",
       " u'passive': {u'accuracy': 23.37299919128418,\n",
       "  u'altitude': 0,\n",
       "  u'bearing': 0,\n",
       "  u'latitude': 19.519697,\n",
       "  u'longitude': -96.9155722,\n",
       "  u'provider': u'network',\n",
       "  u'speed': 0,\n",
       "  u'time': 1521322589237L}}"
      ]
     },
     "execution_count": 10,
     "metadata": {},
     "output_type": "execute_result"
    }
   ],
   "source": [
    "loc"
   ]
  },
  {
   "cell_type": "code",
   "execution_count": 1,
   "metadata": {},
   "outputs": [],
   "source": [
    "import gdata.spreadsheet.service "
   ]
  },
  {
   "cell_type": "code",
   "execution_count": null,
   "metadata": {},
   "outputs": [],
   "source": []
  },
  {
   "cell_type": "code",
   "execution_count": null,
   "metadata": {},
   "outputs": [],
   "source": []
  },
  {
   "cell_type": "code",
   "execution_count": null,
   "metadata": {},
   "outputs": [],
   "source": []
  },
  {
   "cell_type": "code",
   "execution_count": null,
   "metadata": {},
   "outputs": [],
   "source": []
  },
  {
   "cell_type": "code",
   "execution_count": null,
   "metadata": {},
   "outputs": [],
   "source": []
  },
  {
   "cell_type": "code",
   "execution_count": null,
   "metadata": {},
   "outputs": [],
   "source": []
  },
  {
   "cell_type": "code",
   "execution_count": null,
   "metadata": {},
   "outputs": [],
   "source": []
  },
  {
   "cell_type": "code",
   "execution_count": null,
   "metadata": {},
   "outputs": [],
   "source": []
  }
 ],
 "metadata": {
  "kernelspec": {
   "display_name": "Python 2",
   "language": "python",
   "name": "python2"
  },
  "language_info": {
   "codemirror_mode": {
    "name": "ipython",
    "version": 2
   },
   "file_extension": ".py",
   "mimetype": "text/x-python",
   "name": "python",
   "nbconvert_exporter": "python",
   "pygments_lexer": "ipython2",
   "version": "2.7.14"
  }
 },
 "nbformat": 4,
 "nbformat_minor": 2
}
